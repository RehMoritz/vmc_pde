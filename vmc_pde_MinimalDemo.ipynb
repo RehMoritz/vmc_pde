{
  "nbformat": 4,
  "nbformat_minor": 0,
  "metadata": {
    "colab": {
      "name": "vmc_pde - MinimalDemo",
      "provenance": [],
      "collapsed_sections": [],
      "authorship_tag": "ABX9TyP/9NrxRKPEe2qGjk15WFfh",
      "include_colab_link": true
    },
    "kernelspec": {
      "name": "python3",
      "display_name": "Python 3"
    },
    "language_info": {
      "name": "python"
    }
  },
  "cells": [
    {
      "cell_type": "markdown",
      "metadata": {
        "id": "view-in-github",
        "colab_type": "text"
      },
      "source": [
        "<a href=\"https://colab.research.google.com/github/RehMoritz/vmc_pde/blob/main/vmc_pde_MinimalDemo.ipynb\" target=\"_parent\"><img src=\"https://colab.research.google.com/assets/colab-badge.svg\" alt=\"Open In Colab\"/></a>"
      ]
    },
    {
      "cell_type": "code",
      "source": [
        "%%capture\n",
        "!pip install flax==0.3.6\n",
        "!pip install jax==0.2.18\n",
        "!pip install jaxlib==0.1.74\n",
        "!pip install mpi4py"
      ],
      "metadata": {
        "id": "ZKwxZavzUWLg"
      },
      "execution_count": 5,
      "outputs": []
    },
    {
      "cell_type": "code",
      "source": [
        "!git clone https://github.com/RehMoritz/vmc_pde.git"
      ],
      "metadata": {
        "id": "0K_hVTjKVNpb",
        "outputId": "cc4a5a82-efc9-4c30-f0bc-79c55ba496b3",
        "colab": {
          "base_uri": "https://localhost:8080/"
        }
      },
      "execution_count": 2,
      "outputs": [
        {
          "output_type": "stream",
          "name": "stdout",
          "text": [
            "Cloning into 'vmc_pde'...\n",
            "remote: Enumerating objects: 179, done.\u001b[K\n",
            "remote: Counting objects: 100% (179/179), done.\u001b[K\n",
            "remote: Compressing objects: 100% (119/119), done.\u001b[K\n",
            "remote: Total 179 (delta 86), reused 132 (delta 51), pack-reused 0\u001b[K\n",
            "Receiving objects: 100% (179/179), 21.85 MiB | 28.87 MiB/s, done.\n",
            "Resolving deltas: 100% (86/86), done.\n"
          ]
        }
      ]
    },
    {
      "cell_type": "code",
      "source": [
        "!python vmc_pde/vmc_fluids/main.py"
      ],
      "metadata": {
        "id": "NBxSlfJ4Vgp3",
        "outputId": "32a768f9-a730-4125-f060-aa38c8c7c08f",
        "colab": {
          "base_uri": "https://localhost:8080/"
        }
      },
      "execution_count": null,
      "outputs": [
        {
          "output_type": "stream",
          "name": "stdout",
          "text": [
            "WARNING:absl:No GPU/TPU found, falling back to CPU. (Set TF_CPP_MIN_LOG_LEVEL=0 and rerun for more info.)\n",
            "Identifier -3\n",
            "Number of Model parameters: 219\n",
            "FrozenDict({\n",
            "    params: {\n",
            "        L: DeviceArray([0., 0., 0., 0., 0., 0., 0., 0., 0., 0., 0., 0., 0., 0., 0.],            dtype=float32),\n",
            "        L_diag: DeviceArray([0., 0., 0., 0., 0., 0.], dtype=float32),\n",
            "        mu: DeviceArray([0., 0., 0., 0., 0., 0.], dtype=float32),\n",
            "        dist_params: DeviceArray([], dtype=float32),\n",
            "        myINN: {\n",
            "            blocks_0: {\n",
            "                s2: {\n",
            "                    Dense_0: {\n",
            "                        kernel: DeviceArray([[-0.47218323,  0.639822  , -0.04380226],\n",
            "                                     [-0.07247466, -0.31293178, -0.4561808 ],\n",
            "                                     [ 0.45922565, -0.59792376,  0.2592821 ]], dtype=float32),\n",
            "                        bias: DeviceArray([0., 0., 0.], dtype=float32),\n",
            "                    },\n",
            "                    Dense_1: {\n",
            "                        kernel: DeviceArray([[-3.4109473e-06,  7.5997136e-06, -7.4259233e-06],\n",
            "                                     [-8.9098712e-06, -1.8745779e-06, -8.4306357e-06],\n",
            "                                     [-7.3122260e-07, -9.3844101e-06,  2.9215978e-06]],            dtype=float32),\n",
            "                        bias: DeviceArray([0., 0., 0.], dtype=float32),\n",
            "                    },\n",
            "                },\n",
            "                s1: {\n",
            "                    Dense_0: {\n",
            "                        kernel: DeviceArray([[ 0.610029  ,  0.66932535, -0.21255904],\n",
            "                                     [-0.9355817 , -0.48688293,  0.2833283 ],\n",
            "                                     [ 0.632005  ,  0.81814647, -0.5371847 ]], dtype=float32),\n",
            "                        bias: DeviceArray([0., 0., 0.], dtype=float32),\n",
            "                    },\n",
            "                    Dense_1: {\n",
            "                        kernel: DeviceArray([[ 4.5169472e-06, -2.7981471e-06,  3.9570641e-06],\n",
            "                                     [-2.9711223e-06, -4.4094991e-06,  3.9457036e-06],\n",
            "                                     [ 3.7088989e-06, -9.9995395e-06,  9.3889648e-06]],            dtype=float32),\n",
            "                        bias: DeviceArray([0., 0., 0.], dtype=float32),\n",
            "                    },\n",
            "                },\n",
            "            },\n",
            "            blocks_1: {\n",
            "                s2: {\n",
            "                    Dense_0: {\n",
            "                        kernel: DeviceArray([[-6.6142583e-01, -3.5732985e-04, -2.5757504e-01],\n",
            "                                     [-7.2379994e-01,  8.9687562e-01, -5.0950742e-01],\n",
            "                                     [-4.3779945e-01,  6.3204765e-04,  1.6559076e-01]],            dtype=float32),\n",
            "                        bias: DeviceArray([0., 0., 0.], dtype=float32),\n",
            "                    },\n",
            "                    Dense_1: {\n",
            "                        kernel: DeviceArray([[-8.0909967e-06, -5.8121705e-06,  5.8665537e-06],\n",
            "                                     [ 2.9607320e-06,  4.0237760e-06, -9.8692535e-06],\n",
            "                                     [ 4.7186777e-06, -9.7200773e-06,  2.7360843e-06]],            dtype=float32),\n",
            "                        bias: DeviceArray([0., 0., 0.], dtype=float32),\n",
            "                    },\n",
            "                },\n",
            "                s1: {\n",
            "                    Dense_0: {\n",
            "                        kernel: DeviceArray([[ 0.10246921, -0.86845183, -0.5673058 ],\n",
            "                                     [ 0.29247022, -0.7355859 ,  0.5876769 ],\n",
            "                                     [ 0.352628  ,  0.7401142 , -0.35865188]], dtype=float32),\n",
            "                        bias: DeviceArray([0., 0., 0.], dtype=float32),\n",
            "                    },\n",
            "                    Dense_1: {\n",
            "                        kernel: DeviceArray([[-6.4842793e-06, -2.6618957e-07,  7.1392392e-06],\n",
            "                                     [-2.1081019e-06,  7.7286568e-06, -1.0537046e-06],\n",
            "                                     [-1.0984420e-06, -8.7833951e-06, -3.1856321e-06]],            dtype=float32),\n",
            "                        bias: DeviceArray([0., 0., 0.], dtype=float32),\n",
            "                    },\n",
            "                },\n",
            "            },\n",
            "            blocks_2: {\n",
            "                s2: {\n",
            "                    Dense_0: {\n",
            "                        kernel: DeviceArray([[ 0.40079856, -0.32365656, -0.30917478],\n",
            "                                     [ 0.5129914 ,  0.7040763 , -0.5774524 ],\n",
            "                                     [ 0.27074385,  0.7124579 , -0.2988503 ]], dtype=float32),\n",
            "                        bias: DeviceArray([0., 0., 0.], dtype=float32),\n",
            "                    },\n",
            "                    Dense_1: {\n",
            "                        kernel: DeviceArray([[ 8.9455580e-06, -3.4675763e-06,  7.3897932e-06],\n",
            "                                     [-2.8940462e-06, -2.5302911e-06,  7.0634219e-06],\n",
            "                                     [-3.6690901e-06, -5.7236812e-06, -8.5141657e-08]],            dtype=float32),\n",
            "                        bias: DeviceArray([0., 0., 0.], dtype=float32),\n",
            "                    },\n",
            "                },\n",
            "                s1: {\n",
            "                    Dense_0: {\n",
            "                        kernel: DeviceArray([[ 0.7827574 ,  0.68726563,  0.31847644],\n",
            "                                     [-0.04388475,  0.89714384,  0.90913415],\n",
            "                                     [-0.2751429 ,  0.97631884, -0.6995504 ]], dtype=float32),\n",
            "                        bias: DeviceArray([0., 0., 0.], dtype=float32),\n",
            "                    },\n",
            "                    Dense_1: {\n",
            "                        kernel: DeviceArray([[ 8.6969303e-06, -4.8585293e-06,  3.3909391e-06],\n",
            "                                     [-3.9296792e-06,  9.2419714e-06, -6.1874698e-06],\n",
            "                                     [-2.9714465e-06,  6.4681753e-06,  4.8741149e-06]],            dtype=float32),\n",
            "                        bias: DeviceArray([0., 0., 0.], dtype=float32),\n",
            "                    },\n",
            "                },\n",
            "            },\n",
            "            blocks_3: {\n",
            "                s2: {\n",
            "                    Dense_0: {\n",
            "                        kernel: DeviceArray([[-0.50993085, -0.64026594, -0.35132837],\n",
            "                                     [ 0.47008395, -0.7422652 ,  0.6639402 ],\n",
            "                                     [ 0.8129275 , -0.19493604,  0.08035827]], dtype=float32),\n",
            "                        bias: DeviceArray([0., 0., 0.], dtype=float32),\n",
            "                    },\n",
            "                    Dense_1: {\n",
            "                        kernel: DeviceArray([[-2.3385346e-07,  3.0719636e-06, -3.4565924e-06],\n",
            "                                     [-9.8210048e-06,  3.7517809e-06, -9.1653819e-06],\n",
            "                                     [ 2.6580881e-06, -7.0917104e-06, -2.3873758e-06]],            dtype=float32),\n",
            "                        bias: DeviceArray([0., 0., 0.], dtype=float32),\n",
            "                    },\n",
            "                },\n",
            "                s1: {\n",
            "                    Dense_0: {\n",
            "                        kernel: DeviceArray([[ 0.6051394 ,  0.36671305, -0.14634532],\n",
            "                                     [-0.78286123, -0.69801855,  0.33251023],\n",
            "                                     [-0.63546634, -0.7139776 ,  0.6148782 ]], dtype=float32),\n",
            "                        bias: DeviceArray([0., 0., 0.], dtype=float32),\n",
            "                    },\n",
            "                    Dense_1: {\n",
            "                        kernel: DeviceArray([[ 3.9881111e-06,  5.9602498e-06,  4.8916959e-06],\n",
            "                                     [-7.8101684e-06, -6.1689780e-06, -9.2262007e-06],\n",
            "                                     [-6.5563199e-06,  5.7045577e-06, -1.6062396e-06]],            dtype=float32),\n",
            "                        bias: DeviceArray([0., 0., 0.], dtype=float32),\n",
            "                    },\n",
            "                },\n",
            "            },\n",
            "        },\n",
            "    },\n",
            "})\n",
            "[0.99992693 1.00007849 1.00028553 0.99988699 1.00022759 1.00016034]\n",
            "[1.         1.00000004 1.00000003 1.00000004 1.0000001  0.99999987]\n",
            "[-1.00007308 -0.99992155 -0.99971458 -1.00011307 -0.99977257 -0.99983955]\n",
            "[-1.         -1.00000016 -1.00000003 -1.00000004 -1.0000001  -0.99999987]\n",
            "[0. 0. 0. 0. 0. 0.]\n",
            "[0. 0. 0. 0. 0. 0.]\n",
            "Successfully created the directory output/trash/harmonicOsc_diff/NsamplesTDVP10000_NsamplesObs10000/ \n"
          ]
        }
      ]
    },
    {
      "cell_type": "code",
      "source": [
        ""
      ],
      "metadata": {
        "id": "Pnrbe7fLZptg"
      },
      "execution_count": 3,
      "outputs": []
    }
  ]
}