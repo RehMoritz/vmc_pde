{
  "nbformat": 4,
  "nbformat_minor": 0,
  "metadata": {
    "colab": {
      "name": "vmc_pde - MinimalDemo",
      "provenance": [],
      "collapsed_sections": [],
      "authorship_tag": "ABX9TyNw+sM4gshLLZA+CZXy46LF",
      "include_colab_link": true
    },
    "kernelspec": {
      "name": "python3",
      "display_name": "Python 3"
    },
    "language_info": {
      "name": "python"
    }
  },
  "cells": [
    {
      "cell_type": "markdown",
      "metadata": {
        "id": "view-in-github",
        "colab_type": "text"
      },
      "source": [
        "<a href=\"https://colab.research.google.com/github/RehMoritz/vmc_pde/blob/main/vmc_pde_MinimalDemo.ipynb\" target=\"_parent\"><img src=\"https://colab.research.google.com/assets/colab-badge.svg\" alt=\"Open In Colab\"/></a>"
      ]
    },
    {
      "cell_type": "markdown",
      "source": [
        "# vmc_pde - Minimal Working Example\n",
        "\n",
        "Here you can run a minimal working example of the vmc_pde library that is provided in main.py.\n",
        "\n",
        "The provided example is the one of Fig. 1 of the paper - a simple 2D diffusion of a Gaussian.\n",
        "\n",
        "The generated figures are automatically stored in colab and can be opened on the LHS or by running the lowest cell.\n",
        "\n"
      ],
      "metadata": {
        "id": "aUfCxAG3pnWV"
      }
    },
    {
      "cell_type": "code",
      "source": [
        "%%capture\n",
        "!pip install flax==0.3.6\n",
        "!pip install jax==0.2.18\n",
        "!pip install jaxlib==0.1.74\n",
        "!pip install mpi4py"
      ],
      "metadata": {
        "id": "ZKwxZavzUWLg"
      },
      "execution_count": 1,
      "outputs": []
    },
    {
      "cell_type": "code",
      "source": [
        "!git clone https://github.com/RehMoritz/vmc_pde.git"
      ],
      "metadata": {
        "id": "0K_hVTjKVNpb"
      },
      "execution_count": null,
      "outputs": []
    },
    {
      "cell_type": "code",
      "source": [
        "!python vmc_pde/vmc_fluids/main.py"
      ],
      "metadata": {
        "id": "NBxSlfJ4Vgp3"
      },
      "execution_count": null,
      "outputs": []
    },
    {
      "cell_type": "code",
      "source": [
        "from google.colab import files\n",
        "!zip -r /content/output.zip /content/output\n",
        "files.download('/content/output.zip')"
      ],
      "metadata": {
        "id": "BiX9xtMPqLot"
      },
      "execution_count": null,
      "outputs": []
    }
  ]
}