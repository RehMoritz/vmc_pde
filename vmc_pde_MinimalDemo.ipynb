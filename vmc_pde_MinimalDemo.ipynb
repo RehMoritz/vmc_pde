{
  "nbformat": 4,
  "nbformat_minor": 0,
  "metadata": {
    "colab": {
      "name": "vmc_pde - MinimalDemo",
      "provenance": [],
      "collapsed_sections": [],
      "authorship_tag": "ABX9TyP/9NrxRKPEe2qGjk15WFfh",
      "include_colab_link": true
    },
    "kernelspec": {
      "name": "python3",
      "display_name": "Python 3"
    },
    "language_info": {
      "name": "python"
    }
  },
  "cells": [
    {
      "cell_type": "markdown",
      "metadata": {
        "id": "view-in-github",
        "colab_type": "text"
      },
      "source": [
        "<a href=\"https://colab.research.google.com/github/RehMoritz/vmc_pde/blob/main/vmc_pde_MinimalDemo.ipynb\" target=\"_parent\"><img src=\"https://colab.research.google.com/assets/colab-badge.svg\" alt=\"Open In Colab\"/></a>"
      ]
    },
    {
      "cell_type": "code",
      "source": [
        "%%capture\n",
        "!pip install flax==0.3.6\n",
        "!pip install jax==0.2.18\n",
        "!pip install jaxlib==0.1.74\n",
        "!pip install mpi4py"
      ],
      "metadata": {
        "id": "ZKwxZavzUWLg"
      },
      "execution_count": 1,
      "outputs": []
    },
    {
      "cell_type": "code",
      "source": [
        "!git clone https://github.com/RehMoritz/vmc_pde.git"
      ],
      "metadata": {
        "id": "0K_hVTjKVNpb"
      },
      "execution_count": null,
      "outputs": []
    },
    {
      "cell_type": "code",
      "source": [
        "!python vmc_pde/vmc_fluids/main.py"
      ],
      "metadata": {
        "id": "NBxSlfJ4Vgp3"
      },
      "execution_count": null,
      "outputs": []
    },
    {
      "cell_type": "code",
      "source": [
        ""
      ],
      "metadata": {
        "id": "Pnrbe7fLZptg"
      },
      "execution_count": 3,
      "outputs": []
    }
  ]
}